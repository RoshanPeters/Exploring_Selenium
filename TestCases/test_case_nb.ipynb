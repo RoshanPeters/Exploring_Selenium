{
 "cells": [
  {
   "cell_type": "code",
   "execution_count": null,
   "metadata": {},
   "outputs": [],
   "source": [
    "'''\n",
    "Creating test cases and test suites:\n",
    "\n",
    "In real time projects, we will be having many testcases and in each of them many testmethods.\n",
    "\n",
    "If you want to execute these testcases as a batch or as a suite, so that these suites can run these cases corresponding to it, this can be done using pyunittest.\n",
    "\n",
    "'''"
   ]
  },
  {
   "cell_type": "markdown",
   "metadata": {},
   "source": [
    "\n",
    "<img src=\"Pyunittest_testcase.JPG\" style=\"width:600px;height:300px;\">"
   ]
  }
 ],
 "metadata": {
  "language_info": {
   "name": "python"
  },
  "orig_nbformat": 4
 },
 "nbformat": 4,
 "nbformat_minor": 2
}
